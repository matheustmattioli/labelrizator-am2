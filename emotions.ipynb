{
 "cells": [
  {
   "cell_type": "markdown",
   "metadata": {},
   "source": [
    "# Emotions \n",
    "\n",
    "Esse Jupyter Notebook apresenta nosso estudo e os resultados obtidos para o conjunto de dados *Emotions*."
   ]
  },
  {
   "cell_type": "code",
   "execution_count": 32,
   "metadata": {},
   "outputs": [],
   "source": [
    "# Instalação dos pacotes\n",
    "# !pip install --upgrade pip\n",
    "# !pip install scikit-multilearn\n",
    "# !pip install scipy\n",
    "# !pip install pandas\n",
    "# !pip install matplotlib\n",
    "# !pip install numpy\n",
    "# !pip install -U scikit-learn"
   ]
  },
  {
   "cell_type": "markdown",
   "metadata": {},
   "source": [
    "## Leitura dos dados e Pré-processamento\n",
    "\n",
    "A função convert é responsável por transformar dados categóricos e binários para dados numéricos."
   ]
  },
  {
   "cell_type": "code",
   "execution_count": 33,
   "metadata": {},
   "outputs": [],
   "source": [
    "def convert(a):\n",
    "    # tenta converter para uma string\n",
    "    try:\n",
    "        b = a.decode(\"utf-8\")\n",
    "    except:\n",
    "        # eh um numero\n",
    "        return a\n",
    "    # tenta converter para um inteiro\n",
    "    try:\n",
    "        return int(b)\n",
    "    except:\n",
    "        # eh um atributo nominal\n",
    "        if b == 'YES':\n",
    "            return 1\n",
    "        if b == 'NO':\n",
    "            return 0\n",
    "        return b"
   ]
  },
  {
   "cell_type": "code",
   "execution_count": 34,
   "metadata": {},
   "outputs": [
    {
     "name": "stdout",
     "output_type": "stream",
     "text": [
      "     amazed-suprised  happy-pleased  relaxing-calm  quiet-still  sad-lonely  \\\n",
      "0                  0              0              1            1           1   \n",
      "1                  1              0              0            0           0   \n",
      "2                  0              0              0            0           1   \n",
      "3                  0              1              1            0           0   \n",
      "4                  0              0              0            0           1   \n",
      "..               ...            ...            ...          ...         ...   \n",
      "197                0              0              1            1           1   \n",
      "198                1              0              0            0           1   \n",
      "199                0              0              1            1           1   \n",
      "200                0              1              1            0           0   \n",
      "201                0              1              0            0           0   \n",
      "\n",
      "     angry-aggresive  \n",
      "0                  0  \n",
      "1                  1  \n",
      "2                  0  \n",
      "3                  0  \n",
      "4                  0  \n",
      "..               ...  \n",
      "197                0  \n",
      "198                1  \n",
      "199                0  \n",
      "200                0  \n",
      "201                0  \n",
      "\n",
      "[202 rows x 6 columns]\n"
     ]
    }
   ],
   "source": [
    "# Imports necessários para extraçao dos dados\n",
    "import scipy\n",
    "from scipy.io import arff\n",
    "import pandas as pd\n",
    "\n",
    "# Carregando o treino\n",
    "data_train, meta_train = scipy.io.arff.loadarff(f'datasets/emotions/emotions-train.arff')\n",
    "X_train = pd.DataFrame(data_train)\n",
    "\n",
    "# Carregando o teste\n",
    "data_test, meta_test = scipy.io.arff.loadarff(f'datasets/emotions/emotions-test.arff')\n",
    "X_test = pd.DataFrame(data_test)\n",
    "\n",
    "# Pré-processamento\n",
    "# Transformando em atributos numéricos\n",
    "X_test = X_test.applymap(convert)\n",
    "X_train = X_train.applymap(convert)\n",
    "\n",
    "\n",
    "\n",
    "# # Separando o Y do treino\n",
    "Y_train = X_train.iloc[:, -6:]\n",
    "X_train.drop(columns=list(Y_train.columns), inplace=True)\n",
    "\n",
    "# # Separando o Y do teste\n",
    "Y_test = X_test.iloc[:, -6:]\n",
    "X_test.drop(columns=list(Y_test.columns), inplace=True)\n",
    "\n",
    "\n",
    "print(Y_test)"
   ]
  },
  {
   "cell_type": "code",
   "execution_count": 35,
   "metadata": {},
   "outputs": [
    {
     "data": {
      "text/html": [
       "<div>\n",
       "<style scoped>\n",
       "    .dataframe tbody tr th:only-of-type {\n",
       "        vertical-align: middle;\n",
       "    }\n",
       "\n",
       "    .dataframe tbody tr th {\n",
       "        vertical-align: top;\n",
       "    }\n",
       "\n",
       "    .dataframe thead th {\n",
       "        text-align: right;\n",
       "    }\n",
       "</style>\n",
       "<table border=\"1\" class=\"dataframe\">\n",
       "  <thead>\n",
       "    <tr style=\"text-align: right;\">\n",
       "      <th></th>\n",
       "      <th>amazed-suprised</th>\n",
       "      <th>happy-pleased</th>\n",
       "      <th>relaxing-calm</th>\n",
       "      <th>quiet-still</th>\n",
       "      <th>sad-lonely</th>\n",
       "      <th>angry-aggresive</th>\n",
       "    </tr>\n",
       "  </thead>\n",
       "  <tbody>\n",
       "    <tr>\n",
       "      <th>0</th>\n",
       "      <td>0</td>\n",
       "      <td>0</td>\n",
       "      <td>1</td>\n",
       "      <td>1</td>\n",
       "      <td>1</td>\n",
       "      <td>0</td>\n",
       "    </tr>\n",
       "    <tr>\n",
       "      <th>1</th>\n",
       "      <td>1</td>\n",
       "      <td>0</td>\n",
       "      <td>0</td>\n",
       "      <td>0</td>\n",
       "      <td>0</td>\n",
       "      <td>1</td>\n",
       "    </tr>\n",
       "    <tr>\n",
       "      <th>2</th>\n",
       "      <td>0</td>\n",
       "      <td>0</td>\n",
       "      <td>0</td>\n",
       "      <td>0</td>\n",
       "      <td>1</td>\n",
       "      <td>0</td>\n",
       "    </tr>\n",
       "    <tr>\n",
       "      <th>3</th>\n",
       "      <td>0</td>\n",
       "      <td>1</td>\n",
       "      <td>1</td>\n",
       "      <td>0</td>\n",
       "      <td>0</td>\n",
       "      <td>0</td>\n",
       "    </tr>\n",
       "    <tr>\n",
       "      <th>4</th>\n",
       "      <td>0</td>\n",
       "      <td>0</td>\n",
       "      <td>0</td>\n",
       "      <td>0</td>\n",
       "      <td>1</td>\n",
       "      <td>0</td>\n",
       "    </tr>\n",
       "    <tr>\n",
       "      <th>...</th>\n",
       "      <td>...</td>\n",
       "      <td>...</td>\n",
       "      <td>...</td>\n",
       "      <td>...</td>\n",
       "      <td>...</td>\n",
       "      <td>...</td>\n",
       "    </tr>\n",
       "    <tr>\n",
       "      <th>197</th>\n",
       "      <td>0</td>\n",
       "      <td>0</td>\n",
       "      <td>1</td>\n",
       "      <td>1</td>\n",
       "      <td>1</td>\n",
       "      <td>0</td>\n",
       "    </tr>\n",
       "    <tr>\n",
       "      <th>198</th>\n",
       "      <td>1</td>\n",
       "      <td>0</td>\n",
       "      <td>0</td>\n",
       "      <td>0</td>\n",
       "      <td>1</td>\n",
       "      <td>1</td>\n",
       "    </tr>\n",
       "    <tr>\n",
       "      <th>199</th>\n",
       "      <td>0</td>\n",
       "      <td>0</td>\n",
       "      <td>1</td>\n",
       "      <td>1</td>\n",
       "      <td>1</td>\n",
       "      <td>0</td>\n",
       "    </tr>\n",
       "    <tr>\n",
       "      <th>200</th>\n",
       "      <td>0</td>\n",
       "      <td>1</td>\n",
       "      <td>1</td>\n",
       "      <td>0</td>\n",
       "      <td>0</td>\n",
       "      <td>0</td>\n",
       "    </tr>\n",
       "    <tr>\n",
       "      <th>201</th>\n",
       "      <td>0</td>\n",
       "      <td>1</td>\n",
       "      <td>0</td>\n",
       "      <td>0</td>\n",
       "      <td>0</td>\n",
       "      <td>0</td>\n",
       "    </tr>\n",
       "  </tbody>\n",
       "</table>\n",
       "<p>202 rows × 6 columns</p>\n",
       "</div>"
      ],
      "text/plain": [
       "     amazed-suprised  happy-pleased  relaxing-calm  quiet-still  sad-lonely  \\\n",
       "0                  0              0              1            1           1   \n",
       "1                  1              0              0            0           0   \n",
       "2                  0              0              0            0           1   \n",
       "3                  0              1              1            0           0   \n",
       "4                  0              0              0            0           1   \n",
       "..               ...            ...            ...          ...         ...   \n",
       "197                0              0              1            1           1   \n",
       "198                1              0              0            0           1   \n",
       "199                0              0              1            1           1   \n",
       "200                0              1              1            0           0   \n",
       "201                0              1              0            0           0   \n",
       "\n",
       "     angry-aggresive  \n",
       "0                  0  \n",
       "1                  1  \n",
       "2                  0  \n",
       "3                  0  \n",
       "4                  0  \n",
       "..               ...  \n",
       "197                0  \n",
       "198                1  \n",
       "199                0  \n",
       "200                0  \n",
       "201                0  \n",
       "\n",
       "[202 rows x 6 columns]"
      ]
     },
     "execution_count": 35,
     "metadata": {},
     "output_type": "execute_result"
    }
   ],
   "source": [
    "# Verificando se o pré-processamento foi bem sucedida nos rótulos.\n",
    "Y_test"
   ]
  },
  {
   "cell_type": "markdown",
   "metadata": {},
   "source": [
    "## Algoritmos\n",
    "Vamos estudar esse conjunto de dados com três métodos de classificação multirrótulo:\n",
    "- Binary Relevance\n",
    "- Classifier Chains\n",
    "- Label Powersets.\n",
    "\n",
    "Também utilizamos dois classificadores de um rótulo para cada classificador multirrótulo, são eles:\n",
    "- Decision Tree Classifier\n",
    "- Random Forest Classifier. \n",
    "\n"
   ]
  },
  {
   "cell_type": "markdown",
   "metadata": {},
   "source": [
    "### Binary Relevance"
   ]
  },
  {
   "cell_type": "code",
   "execution_count": 36,
   "metadata": {},
   "outputs": [
    {
     "data": {
      "text/plain": [
       "GridSearchCV(estimator=BinaryRelevance(require_dense=[True, True]),\n",
       "             param_grid=[{'classifier': [DecisionTreeClassifier()],\n",
       "                          'classifier__criterion': ['gini', 'entropy'],\n",
       "                          'classifier__max_depth': [10, 50, 100],\n",
       "                          'classifier__random_state': [42]},\n",
       "                         {'classifier': [RandomForestClassifier(bootstrap=False,\n",
       "                                                                random_state=42)],\n",
       "                          'classifier__bootstrap': [True, False],\n",
       "                          'classifier__criterion': ['gini', 'entropy'],\n",
       "                          'classifier__random_state': [42]}],\n",
       "             scoring='accuracy')"
      ]
     },
     "execution_count": 36,
     "metadata": {},
     "output_type": "execute_result"
    }
   ],
   "source": [
    "# Começamos com o Binary Relevance\n",
    "from skmultilearn.problem_transform import BinaryRelevance\n",
    "from sklearn.model_selection import GridSearchCV\n",
    "from sklearn.naive_bayes import MultinomialNB\n",
    "from sklearn.tree import DecisionTreeClassifier\n",
    "from sklearn.ensemble import RandomForestClassifier\n",
    "\n",
    "# Realizamos uma Cross Validation para determinarmos os melhores\n",
    "# parâmetros de execução do algoritmo de classificação multirrótulo.\n",
    "# Dentre esses parâmetros, está o classificador que vamos utilizar\n",
    "# para resolver o problema após conversão para um rótulo.\n",
    "\n",
    "\n",
    "grid_param = [ \n",
    "    {\n",
    "        'classifier': [DecisionTreeClassifier()],\n",
    "        'classifier__criterion': ['gini', 'entropy'],\n",
    "        'classifier__max_depth': [10, 50, 100],\n",
    "        'classifier__random_state': [42],\n",
    "    },\n",
    "    {\n",
    "        'classifier': [RandomForestClassifier()],\n",
    "        'classifier__criterion': ['gini', 'entropy'],\n",
    "        'classifier__bootstrap': [True, False],\n",
    "        'classifier__random_state': [42],\n",
    "    },\n",
    "]\n",
    "\n",
    "br = GridSearchCV(BinaryRelevance(), grid_param, scoring='accuracy')\n",
    "\n",
    "br.fit(X_train.values, Y_train.values)\n"
   ]
  },
  {
   "cell_type": "code",
   "execution_count": 37,
   "metadata": {},
   "outputs": [
    {
     "data": {
      "text/plain": [
       "0.2865952612788056"
      ]
     },
     "execution_count": 37,
     "metadata": {},
     "output_type": "execute_result"
    }
   ],
   "source": [
    "# Valor de acurácia da melhor escolha do Cross Validation\n",
    "br.best_score_"
   ]
  },
  {
   "cell_type": "code",
   "execution_count": 38,
   "metadata": {},
   "outputs": [
    {
     "data": {
      "text/plain": [
       "{'classifier': RandomForestClassifier(bootstrap=False, random_state=42),\n",
       " 'classifier__bootstrap': False,\n",
       " 'classifier__criterion': 'gini',\n",
       " 'classifier__random_state': 42}"
      ]
     },
     "execution_count": 38,
     "metadata": {},
     "output_type": "execute_result"
    }
   ],
   "source": [
    "# Melhores parâmetros escolhidos pelo Cross Validation\n",
    "br.best_params_"
   ]
  },
  {
   "cell_type": "code",
   "execution_count": 39,
   "metadata": {},
   "outputs": [
    {
     "data": {
      "text/plain": [
       "BinaryRelevance(classifier=RandomForestClassifier(bootstrap=False,\n",
       "                                                  random_state=42),\n",
       "                require_dense=[True, True])"
      ]
     },
     "execution_count": 39,
     "metadata": {},
     "output_type": "execute_result"
    }
   ],
   "source": [
    "# Melhores parâmetros escolhidos pelo Cross Validation\n",
    "# De forma simplificada\n",
    "br.best_estimator_"
   ]
  },
  {
   "cell_type": "code",
   "execution_count": 40,
   "metadata": {},
   "outputs": [
    {
     "data": {
      "text/plain": [
       "BinaryRelevance(classifier=RandomForestClassifier(bootstrap=False,\n",
       "                                                  random_state=42),\n",
       "                require_dense=[True, True])"
      ]
     },
     "execution_count": 40,
     "metadata": {},
     "output_type": "execute_result"
    }
   ],
   "source": [
    "# Realiza o fit com os parâmetros escolhidos \n",
    "br = br.best_estimator_\n",
    "br.fit(X_train.values, Y_train.values)\n"
   ]
  },
  {
   "cell_type": "code",
   "execution_count": 41,
   "metadata": {},
   "outputs": [
    {
     "data": {
      "text/plain": [
       "0.24257425742574257"
      ]
     },
     "execution_count": 41,
     "metadata": {},
     "output_type": "execute_result"
    }
   ],
   "source": [
    "# Testa a qualidade da solução\n",
    "from sklearn.metrics import accuracy_score\n",
    "\n",
    "# Verificar acurácia\n",
    "pred = br.predict(X_test.values)\n",
    "accuracy_score(Y_test.values, pred)\n"
   ]
  },
  {
   "cell_type": "code",
   "execution_count": 42,
   "metadata": {},
   "outputs": [
    {
     "data": {
      "text/plain": [
       "0.2103960396039604"
      ]
     },
     "execution_count": 42,
     "metadata": {},
     "output_type": "execute_result"
    }
   ],
   "source": [
    "# Verificar o Hamming Loss\n",
    "from sklearn.metrics import hamming_loss\n",
    "hamming_loss(Y_test.values, pred)"
   ]
  },
  {
   "cell_type": "markdown",
   "metadata": {},
   "source": [
    "### Classifier Chains"
   ]
  },
  {
   "cell_type": "code",
   "execution_count": 43,
   "metadata": {},
   "outputs": [
    {
     "data": {
      "text/plain": [
       "GridSearchCV(estimator=ClassifierChain(require_dense=[True, True]),\n",
       "             param_grid=[{'classifier': [DecisionTreeClassifier()],\n",
       "                          'classifier__criterion': ['gini', 'entropy'],\n",
       "                          'classifier__max_depth': [10, 50, 100],\n",
       "                          'classifier__random_state': [42]},\n",
       "                         {'classifier': [RandomForestClassifier(criterion='entropy',\n",
       "                                                                random_state=42)],\n",
       "                          'classifier__bootstrap': [True, False],\n",
       "                          'classifier__criterion': ['gini', 'entropy'],\n",
       "                          'classifier__random_state': [42]}],\n",
       "             scoring='accuracy')"
      ]
     },
     "execution_count": 43,
     "metadata": {},
     "output_type": "execute_result"
    }
   ],
   "source": [
    "# Vamos utilizar o Classifier Chains\n",
    "from skmultilearn.problem_transform import ClassifierChain\n",
    "# Realizamos uma Cross Validation para determinarmos os melhores\n",
    "# parâmetros de execução do algoritmo de classificação multirrótulo.\n",
    "# Dentre esses parâmetros, está o classificador que vamos utilizar\n",
    "# para resolver o problema após conversão para um rótulo.\n",
    "\n",
    "grid_param = [ \n",
    "    {\n",
    "        'classifier': [DecisionTreeClassifier()],\n",
    "        'classifier__criterion': ['gini', 'entropy'],\n",
    "        'classifier__max_depth': [10, 50, 100],\n",
    "        'classifier__random_state': [42],\n",
    "    },\n",
    "    {\n",
    "        'classifier': [RandomForestClassifier()],\n",
    "        'classifier__criterion': ['gini', 'entropy'],\n",
    "        'classifier__bootstrap': [True, False],\n",
    "        'classifier__random_state': [42],\n",
    "    },\n",
    "]\n",
    "\n",
    "cc = GridSearchCV(ClassifierChain(), grid_param, scoring='accuracy')\n",
    "cc.fit(X_train.values, Y_train.values)"
   ]
  },
  {
   "cell_type": "code",
   "execution_count": 44,
   "metadata": {},
   "outputs": [
    {
     "data": {
      "text/plain": [
       "0.3095748133722817"
      ]
     },
     "execution_count": 44,
     "metadata": {},
     "output_type": "execute_result"
    }
   ],
   "source": [
    "cc.best_score_"
   ]
  },
  {
   "cell_type": "code",
   "execution_count": 45,
   "metadata": {},
   "outputs": [
    {
     "data": {
      "text/plain": [
       "{'classifier': RandomForestClassifier(criterion='entropy', random_state=42),\n",
       " 'classifier__bootstrap': True,\n",
       " 'classifier__criterion': 'entropy',\n",
       " 'classifier__random_state': 42}"
      ]
     },
     "execution_count": 45,
     "metadata": {},
     "output_type": "execute_result"
    }
   ],
   "source": [
    "cc.best_params_"
   ]
  },
  {
   "cell_type": "code",
   "execution_count": 46,
   "metadata": {},
   "outputs": [
    {
     "data": {
      "text/plain": [
       "ClassifierChain(classifier=RandomForestClassifier(criterion='entropy',\n",
       "                                                  random_state=42),\n",
       "                require_dense=[True, True])"
      ]
     },
     "execution_count": 46,
     "metadata": {},
     "output_type": "execute_result"
    }
   ],
   "source": [
    "cc.best_estimator_"
   ]
  },
  {
   "cell_type": "code",
   "execution_count": 47,
   "metadata": {},
   "outputs": [
    {
     "data": {
      "text/plain": [
       "ClassifierChain(classifier=RandomForestClassifier(criterion='entropy',\n",
       "                                                  random_state=42),\n",
       "                require_dense=[True, True])"
      ]
     },
     "execution_count": 47,
     "metadata": {},
     "output_type": "execute_result"
    }
   ],
   "source": [
    "# Realiza o fit com os parâmetros escolhidos \n",
    "cc = cc.best_estimator_\n",
    "cc.fit(X_train.values, Y_train.values)"
   ]
  },
  {
   "cell_type": "code",
   "execution_count": 48,
   "metadata": {},
   "outputs": [
    {
     "data": {
      "text/plain": [
       "0.31683168316831684"
      ]
     },
     "execution_count": 48,
     "metadata": {},
     "output_type": "execute_result"
    }
   ],
   "source": [
    "# Verificar acurácia\n",
    "pred2 = cc.predict(X_test.values)\n",
    "accuracy_score(Y_test.values, pred2)"
   ]
  },
  {
   "cell_type": "code",
   "execution_count": 49,
   "metadata": {},
   "outputs": [
    {
     "data": {
      "text/plain": [
       "0.183993399339934"
      ]
     },
     "execution_count": 49,
     "metadata": {},
     "output_type": "execute_result"
    }
   ],
   "source": [
    "# Verificar o Hamming Loss\n",
    "hamming_loss(Y_test.values, pred2)"
   ]
  },
  {
   "cell_type": "markdown",
   "metadata": {},
   "source": [
    "### Label Powerset"
   ]
  },
  {
   "cell_type": "code",
   "execution_count": 50,
   "metadata": {},
   "outputs": [
    {
     "data": {
      "text/plain": [
       "GridSearchCV(estimator=LabelPowerset(require_dense=[True, True]),\n",
       "             param_grid=[{'classifier': [DecisionTreeClassifier()],\n",
       "                          'classifier__criterion': ['gini', 'entropy'],\n",
       "                          'classifier__max_depth': [10, 50, 100],\n",
       "                          'classifier__random_state': [42]},\n",
       "                         {'classifier': [RandomForestClassifier(random_state=42)],\n",
       "                          'classifier__bootstrap': [True, False],\n",
       "                          'classifier__criterion': ['gini', 'entropy'],\n",
       "                          'classifier__random_state': [42]}],\n",
       "             scoring='accuracy')"
      ]
     },
     "execution_count": 50,
     "metadata": {},
     "output_type": "execute_result"
    }
   ],
   "source": [
    "# Vamos utilizar o Label Powerset\n",
    "from skmultilearn.problem_transform import LabelPowerset\n",
    "# Realizamos uma Cross Validation para determinarmos os melhores\n",
    "# parâmetros de execução do algoritmo de classificação multirrótulo.\n",
    "# Dentre esses parâmetros, está o classificador que vamos utilizar\n",
    "# para resolver o problema após conversão para um rótulo.\n",
    "\n",
    "grid_param = [ \n",
    "    {\n",
    "        'classifier': [DecisionTreeClassifier()],\n",
    "        'classifier__criterion': ['gini', 'entropy'],\n",
    "        'classifier__max_depth': [10, 50, 100],\n",
    "        'classifier__random_state': [42],\n",
    "    },\n",
    "    {\n",
    "        'classifier': [RandomForestClassifier()],\n",
    "        'classifier__criterion': ['gini', 'entropy'],\n",
    "        'classifier__bootstrap': [True, False],\n",
    "        'classifier__random_state': [42],\n",
    "    },\n",
    "]\n",
    "\n",
    "lp = GridSearchCV(LabelPowerset(), grid_param, scoring='accuracy')\n",
    "lp.fit(X_train.values, Y_train.values)"
   ]
  },
  {
   "cell_type": "code",
   "execution_count": 51,
   "metadata": {},
   "outputs": [
    {
     "data": {
      "text/plain": [
       "0.3376501135994807"
      ]
     },
     "execution_count": 51,
     "metadata": {},
     "output_type": "execute_result"
    }
   ],
   "source": [
    "lp.best_score_"
   ]
  },
  {
   "cell_type": "code",
   "execution_count": 52,
   "metadata": {},
   "outputs": [
    {
     "data": {
      "text/plain": [
       "{'classifier': RandomForestClassifier(random_state=42),\n",
       " 'classifier__bootstrap': True,\n",
       " 'classifier__criterion': 'gini',\n",
       " 'classifier__random_state': 42}"
      ]
     },
     "execution_count": 52,
     "metadata": {},
     "output_type": "execute_result"
    }
   ],
   "source": [
    "lp.best_params_"
   ]
  },
  {
   "cell_type": "code",
   "execution_count": 53,
   "metadata": {},
   "outputs": [
    {
     "data": {
      "text/plain": [
       "LabelPowerset(classifier=RandomForestClassifier(random_state=42),\n",
       "              require_dense=[True, True])"
      ]
     },
     "execution_count": 53,
     "metadata": {},
     "output_type": "execute_result"
    }
   ],
   "source": [
    "lp.best_estimator_"
   ]
  },
  {
   "cell_type": "code",
   "execution_count": 54,
   "metadata": {},
   "outputs": [
    {
     "data": {
      "text/plain": [
       "LabelPowerset(classifier=RandomForestClassifier(random_state=42),\n",
       "              require_dense=[True, True])"
      ]
     },
     "execution_count": 54,
     "metadata": {},
     "output_type": "execute_result"
    }
   ],
   "source": [
    "# Realiza o fit com os parâmetros escolhidos \n",
    "lp = lp.best_estimator_\n",
    "lp.fit(X_train.values, Y_train.values)"
   ]
  },
  {
   "cell_type": "code",
   "execution_count": 55,
   "metadata": {},
   "outputs": [
    {
     "data": {
      "text/plain": [
       "0.38613861386138615"
      ]
     },
     "execution_count": 55,
     "metadata": {},
     "output_type": "execute_result"
    }
   ],
   "source": [
    "# Verificar acurácia\n",
    "pred3 = lp.predict(X_test.values)\n",
    "accuracy_score(Y_test.values, pred3)"
   ]
  },
  {
   "cell_type": "code",
   "execution_count": 56,
   "metadata": {},
   "outputs": [
    {
     "data": {
      "text/plain": [
       "0.19224422442244224"
      ]
     },
     "execution_count": 56,
     "metadata": {},
     "output_type": "execute_result"
    }
   ],
   "source": [
    "# Verificar o Hamming Loss\n",
    "hamming_loss(Y_test.values, pred3)"
   ]
  },
  {
   "cell_type": "markdown",
   "metadata": {},
   "source": [
    "## Resultados\n",
    "\n",
    "Agora iremos mostrar os resultados experimentais obtidos por cada algoritmo de classificação multirrótulo. \n",
    "Além disso, vamos plotar gráficos para comparar os valores de acurácia e *Hamming Loss* dos métodos."
   ]
  },
  {
   "cell_type": "markdown",
   "metadata": {},
   "source": [
    "### Resultados Experimentais"
   ]
  },
  {
   "cell_type": "code",
   "execution_count": 57,
   "metadata": {},
   "outputs": [
    {
     "data": {
      "text/html": [
       "<div>\n",
       "<style scoped>\n",
       "    .dataframe tbody tr th:only-of-type {\n",
       "        vertical-align: middle;\n",
       "    }\n",
       "\n",
       "    .dataframe tbody tr th {\n",
       "        vertical-align: top;\n",
       "    }\n",
       "\n",
       "    .dataframe thead th {\n",
       "        text-align: right;\n",
       "    }\n",
       "</style>\n",
       "<table border=\"1\" class=\"dataframe\">\n",
       "  <thead>\n",
       "    <tr style=\"text-align: right;\">\n",
       "      <th></th>\n",
       "      <th>0</th>\n",
       "      <th>1</th>\n",
       "      <th>2</th>\n",
       "      <th>3</th>\n",
       "      <th>4</th>\n",
       "      <th>5</th>\n",
       "    </tr>\n",
       "  </thead>\n",
       "  <tbody>\n",
       "    <tr>\n",
       "      <th>0</th>\n",
       "      <td>0</td>\n",
       "      <td>0</td>\n",
       "      <td>1</td>\n",
       "      <td>1</td>\n",
       "      <td>1</td>\n",
       "      <td>0</td>\n",
       "    </tr>\n",
       "    <tr>\n",
       "      <th>1</th>\n",
       "      <td>0</td>\n",
       "      <td>0</td>\n",
       "      <td>0</td>\n",
       "      <td>0</td>\n",
       "      <td>0</td>\n",
       "      <td>1</td>\n",
       "    </tr>\n",
       "    <tr>\n",
       "      <th>2</th>\n",
       "      <td>1</td>\n",
       "      <td>0</td>\n",
       "      <td>0</td>\n",
       "      <td>0</td>\n",
       "      <td>0</td>\n",
       "      <td>0</td>\n",
       "    </tr>\n",
       "    <tr>\n",
       "      <th>3</th>\n",
       "      <td>0</td>\n",
       "      <td>1</td>\n",
       "      <td>1</td>\n",
       "      <td>0</td>\n",
       "      <td>0</td>\n",
       "      <td>0</td>\n",
       "    </tr>\n",
       "    <tr>\n",
       "      <th>4</th>\n",
       "      <td>0</td>\n",
       "      <td>0</td>\n",
       "      <td>1</td>\n",
       "      <td>0</td>\n",
       "      <td>0</td>\n",
       "      <td>0</td>\n",
       "    </tr>\n",
       "    <tr>\n",
       "      <th>...</th>\n",
       "      <td>...</td>\n",
       "      <td>...</td>\n",
       "      <td>...</td>\n",
       "      <td>...</td>\n",
       "      <td>...</td>\n",
       "      <td>...</td>\n",
       "    </tr>\n",
       "    <tr>\n",
       "      <th>197</th>\n",
       "      <td>0</td>\n",
       "      <td>0</td>\n",
       "      <td>1</td>\n",
       "      <td>1</td>\n",
       "      <td>1</td>\n",
       "      <td>0</td>\n",
       "    </tr>\n",
       "    <tr>\n",
       "      <th>198</th>\n",
       "      <td>1</td>\n",
       "      <td>0</td>\n",
       "      <td>0</td>\n",
       "      <td>0</td>\n",
       "      <td>0</td>\n",
       "      <td>0</td>\n",
       "    </tr>\n",
       "    <tr>\n",
       "      <th>199</th>\n",
       "      <td>0</td>\n",
       "      <td>0</td>\n",
       "      <td>1</td>\n",
       "      <td>1</td>\n",
       "      <td>1</td>\n",
       "      <td>0</td>\n",
       "    </tr>\n",
       "    <tr>\n",
       "      <th>200</th>\n",
       "      <td>0</td>\n",
       "      <td>0</td>\n",
       "      <td>1</td>\n",
       "      <td>0</td>\n",
       "      <td>0</td>\n",
       "      <td>0</td>\n",
       "    </tr>\n",
       "    <tr>\n",
       "      <th>201</th>\n",
       "      <td>0</td>\n",
       "      <td>1</td>\n",
       "      <td>1</td>\n",
       "      <td>0</td>\n",
       "      <td>0</td>\n",
       "      <td>0</td>\n",
       "    </tr>\n",
       "  </tbody>\n",
       "</table>\n",
       "<p>202 rows × 6 columns</p>\n",
       "</div>"
      ],
      "text/plain": [
       "     0  1  2  3  4  5\n",
       "0    0  0  1  1  1  0\n",
       "1    0  0  0  0  0  1\n",
       "2    1  0  0  0  0  0\n",
       "3    0  1  1  0  0  0\n",
       "4    0  0  1  0  0  0\n",
       "..  .. .. .. .. .. ..\n",
       "197  0  0  1  1  1  0\n",
       "198  1  0  0  0  0  0\n",
       "199  0  0  1  1  1  0\n",
       "200  0  0  1  0  0  0\n",
       "201  0  1  1  0  0  0\n",
       "\n",
       "[202 rows x 6 columns]"
      ]
     },
     "execution_count": 57,
     "metadata": {},
     "output_type": "execute_result"
    }
   ],
   "source": [
    "# Resultado predito pelo algoritmo Binary Relevance\n",
    "pd.DataFrame.sparse.from_spmatrix(pred)"
   ]
  },
  {
   "cell_type": "code",
   "execution_count": 58,
   "metadata": {},
   "outputs": [
    {
     "data": {
      "text/html": [
       "<div>\n",
       "<style scoped>\n",
       "    .dataframe tbody tr th:only-of-type {\n",
       "        vertical-align: middle;\n",
       "    }\n",
       "\n",
       "    .dataframe tbody tr th {\n",
       "        vertical-align: top;\n",
       "    }\n",
       "\n",
       "    .dataframe thead th {\n",
       "        text-align: right;\n",
       "    }\n",
       "</style>\n",
       "<table border=\"1\" class=\"dataframe\">\n",
       "  <thead>\n",
       "    <tr style=\"text-align: right;\">\n",
       "      <th></th>\n",
       "      <th>0</th>\n",
       "      <th>1</th>\n",
       "      <th>2</th>\n",
       "      <th>3</th>\n",
       "      <th>4</th>\n",
       "      <th>5</th>\n",
       "    </tr>\n",
       "  </thead>\n",
       "  <tbody>\n",
       "    <tr>\n",
       "      <th>0</th>\n",
       "      <td>0.0</td>\n",
       "      <td>0.0</td>\n",
       "      <td>1.0</td>\n",
       "      <td>1.0</td>\n",
       "      <td>1.0</td>\n",
       "      <td>0.0</td>\n",
       "    </tr>\n",
       "    <tr>\n",
       "      <th>1</th>\n",
       "      <td>0.0</td>\n",
       "      <td>0.0</td>\n",
       "      <td>0.0</td>\n",
       "      <td>0.0</td>\n",
       "      <td>0.0</td>\n",
       "      <td>1.0</td>\n",
       "    </tr>\n",
       "    <tr>\n",
       "      <th>2</th>\n",
       "      <td>0.0</td>\n",
       "      <td>0.0</td>\n",
       "      <td>0.0</td>\n",
       "      <td>0.0</td>\n",
       "      <td>0.0</td>\n",
       "      <td>0.0</td>\n",
       "    </tr>\n",
       "    <tr>\n",
       "      <th>3</th>\n",
       "      <td>0.0</td>\n",
       "      <td>1.0</td>\n",
       "      <td>1.0</td>\n",
       "      <td>0.0</td>\n",
       "      <td>0.0</td>\n",
       "      <td>0.0</td>\n",
       "    </tr>\n",
       "    <tr>\n",
       "      <th>4</th>\n",
       "      <td>0.0</td>\n",
       "      <td>0.0</td>\n",
       "      <td>0.0</td>\n",
       "      <td>0.0</td>\n",
       "      <td>0.0</td>\n",
       "      <td>0.0</td>\n",
       "    </tr>\n",
       "    <tr>\n",
       "      <th>...</th>\n",
       "      <td>...</td>\n",
       "      <td>...</td>\n",
       "      <td>...</td>\n",
       "      <td>...</td>\n",
       "      <td>...</td>\n",
       "      <td>...</td>\n",
       "    </tr>\n",
       "    <tr>\n",
       "      <th>197</th>\n",
       "      <td>0.0</td>\n",
       "      <td>0.0</td>\n",
       "      <td>1.0</td>\n",
       "      <td>1.0</td>\n",
       "      <td>1.0</td>\n",
       "      <td>0.0</td>\n",
       "    </tr>\n",
       "    <tr>\n",
       "      <th>198</th>\n",
       "      <td>0.0</td>\n",
       "      <td>0.0</td>\n",
       "      <td>0.0</td>\n",
       "      <td>0.0</td>\n",
       "      <td>0.0</td>\n",
       "      <td>0.0</td>\n",
       "    </tr>\n",
       "    <tr>\n",
       "      <th>199</th>\n",
       "      <td>0.0</td>\n",
       "      <td>0.0</td>\n",
       "      <td>1.0</td>\n",
       "      <td>1.0</td>\n",
       "      <td>1.0</td>\n",
       "      <td>0.0</td>\n",
       "    </tr>\n",
       "    <tr>\n",
       "      <th>200</th>\n",
       "      <td>0.0</td>\n",
       "      <td>0.0</td>\n",
       "      <td>1.0</td>\n",
       "      <td>0.0</td>\n",
       "      <td>0.0</td>\n",
       "      <td>0.0</td>\n",
       "    </tr>\n",
       "    <tr>\n",
       "      <th>201</th>\n",
       "      <td>0.0</td>\n",
       "      <td>1.0</td>\n",
       "      <td>1.0</td>\n",
       "      <td>0.0</td>\n",
       "      <td>0.0</td>\n",
       "      <td>0.0</td>\n",
       "    </tr>\n",
       "  </tbody>\n",
       "</table>\n",
       "<p>202 rows × 6 columns</p>\n",
       "</div>"
      ],
      "text/plain": [
       "       0    1    2    3    4    5\n",
       "0    0.0  0.0  1.0  1.0  1.0  0.0\n",
       "1    0.0  0.0  0.0  0.0  0.0  1.0\n",
       "2    0.0  0.0  0.0  0.0  0.0  0.0\n",
       "3    0.0  1.0  1.0  0.0  0.0  0.0\n",
       "4    0.0  0.0  0.0  0.0  0.0  0.0\n",
       "..   ...  ...  ...  ...  ...  ...\n",
       "197  0.0  0.0  1.0  1.0  1.0  0.0\n",
       "198  0.0  0.0  0.0  0.0  0.0  0.0\n",
       "199  0.0  0.0  1.0  1.0  1.0  0.0\n",
       "200  0.0  0.0  1.0  0.0  0.0  0.0\n",
       "201  0.0  1.0  1.0  0.0  0.0  0.0\n",
       "\n",
       "[202 rows x 6 columns]"
      ]
     },
     "execution_count": 58,
     "metadata": {},
     "output_type": "execute_result"
    }
   ],
   "source": [
    "# Resultado predito pelo algoritmo Classifier Chains\n",
    "pd.DataFrame.sparse.from_spmatrix(pred2)"
   ]
  },
  {
   "cell_type": "code",
   "execution_count": 59,
   "metadata": {},
   "outputs": [
    {
     "data": {
      "text/html": [
       "<div>\n",
       "<style scoped>\n",
       "    .dataframe tbody tr th:only-of-type {\n",
       "        vertical-align: middle;\n",
       "    }\n",
       "\n",
       "    .dataframe tbody tr th {\n",
       "        vertical-align: top;\n",
       "    }\n",
       "\n",
       "    .dataframe thead th {\n",
       "        text-align: right;\n",
       "    }\n",
       "</style>\n",
       "<table border=\"1\" class=\"dataframe\">\n",
       "  <thead>\n",
       "    <tr style=\"text-align: right;\">\n",
       "      <th></th>\n",
       "      <th>0</th>\n",
       "      <th>1</th>\n",
       "      <th>2</th>\n",
       "      <th>3</th>\n",
       "      <th>4</th>\n",
       "      <th>5</th>\n",
       "    </tr>\n",
       "  </thead>\n",
       "  <tbody>\n",
       "    <tr>\n",
       "      <th>0</th>\n",
       "      <td>0</td>\n",
       "      <td>0</td>\n",
       "      <td>1</td>\n",
       "      <td>1</td>\n",
       "      <td>1</td>\n",
       "      <td>0</td>\n",
       "    </tr>\n",
       "    <tr>\n",
       "      <th>1</th>\n",
       "      <td>0</td>\n",
       "      <td>0</td>\n",
       "      <td>0</td>\n",
       "      <td>0</td>\n",
       "      <td>0</td>\n",
       "      <td>1</td>\n",
       "    </tr>\n",
       "    <tr>\n",
       "      <th>2</th>\n",
       "      <td>1</td>\n",
       "      <td>0</td>\n",
       "      <td>0</td>\n",
       "      <td>0</td>\n",
       "      <td>0</td>\n",
       "      <td>1</td>\n",
       "    </tr>\n",
       "    <tr>\n",
       "      <th>3</th>\n",
       "      <td>0</td>\n",
       "      <td>1</td>\n",
       "      <td>1</td>\n",
       "      <td>0</td>\n",
       "      <td>0</td>\n",
       "      <td>0</td>\n",
       "    </tr>\n",
       "    <tr>\n",
       "      <th>4</th>\n",
       "      <td>0</td>\n",
       "      <td>0</td>\n",
       "      <td>0</td>\n",
       "      <td>0</td>\n",
       "      <td>0</td>\n",
       "      <td>1</td>\n",
       "    </tr>\n",
       "    <tr>\n",
       "      <th>...</th>\n",
       "      <td>...</td>\n",
       "      <td>...</td>\n",
       "      <td>...</td>\n",
       "      <td>...</td>\n",
       "      <td>...</td>\n",
       "      <td>...</td>\n",
       "    </tr>\n",
       "    <tr>\n",
       "      <th>197</th>\n",
       "      <td>0</td>\n",
       "      <td>0</td>\n",
       "      <td>1</td>\n",
       "      <td>1</td>\n",
       "      <td>1</td>\n",
       "      <td>0</td>\n",
       "    </tr>\n",
       "    <tr>\n",
       "      <th>198</th>\n",
       "      <td>1</td>\n",
       "      <td>0</td>\n",
       "      <td>0</td>\n",
       "      <td>0</td>\n",
       "      <td>0</td>\n",
       "      <td>1</td>\n",
       "    </tr>\n",
       "    <tr>\n",
       "      <th>199</th>\n",
       "      <td>0</td>\n",
       "      <td>0</td>\n",
       "      <td>1</td>\n",
       "      <td>1</td>\n",
       "      <td>1</td>\n",
       "      <td>0</td>\n",
       "    </tr>\n",
       "    <tr>\n",
       "      <th>200</th>\n",
       "      <td>0</td>\n",
       "      <td>1</td>\n",
       "      <td>1</td>\n",
       "      <td>0</td>\n",
       "      <td>0</td>\n",
       "      <td>0</td>\n",
       "    </tr>\n",
       "    <tr>\n",
       "      <th>201</th>\n",
       "      <td>1</td>\n",
       "      <td>1</td>\n",
       "      <td>0</td>\n",
       "      <td>0</td>\n",
       "      <td>0</td>\n",
       "      <td>0</td>\n",
       "    </tr>\n",
       "  </tbody>\n",
       "</table>\n",
       "<p>202 rows × 6 columns</p>\n",
       "</div>"
      ],
      "text/plain": [
       "     0  1  2  3  4  5\n",
       "0    0  0  1  1  1  0\n",
       "1    0  0  0  0  0  1\n",
       "2    1  0  0  0  0  1\n",
       "3    0  1  1  0  0  0\n",
       "4    0  0  0  0  0  1\n",
       "..  .. .. .. .. .. ..\n",
       "197  0  0  1  1  1  0\n",
       "198  1  0  0  0  0  1\n",
       "199  0  0  1  1  1  0\n",
       "200  0  1  1  0  0  0\n",
       "201  1  1  0  0  0  0\n",
       "\n",
       "[202 rows x 6 columns]"
      ]
     },
     "execution_count": 59,
     "metadata": {},
     "output_type": "execute_result"
    }
   ],
   "source": [
    "# Resultado predito pelo algoritmo Label Powerset\n",
    "pd.DataFrame.sparse.from_spmatrix(pred3)"
   ]
  },
  {
   "cell_type": "code",
   "execution_count": 60,
   "metadata": {},
   "outputs": [
    {
     "data": {
      "text/html": [
       "<div>\n",
       "<style scoped>\n",
       "    .dataframe tbody tr th:only-of-type {\n",
       "        vertical-align: middle;\n",
       "    }\n",
       "\n",
       "    .dataframe tbody tr th {\n",
       "        vertical-align: top;\n",
       "    }\n",
       "\n",
       "    .dataframe thead th {\n",
       "        text-align: right;\n",
       "    }\n",
       "</style>\n",
       "<table border=\"1\" class=\"dataframe\">\n",
       "  <thead>\n",
       "    <tr style=\"text-align: right;\">\n",
       "      <th></th>\n",
       "      <th>amazed-suprised</th>\n",
       "      <th>happy-pleased</th>\n",
       "      <th>relaxing-calm</th>\n",
       "      <th>quiet-still</th>\n",
       "      <th>sad-lonely</th>\n",
       "      <th>angry-aggresive</th>\n",
       "    </tr>\n",
       "  </thead>\n",
       "  <tbody>\n",
       "    <tr>\n",
       "      <th>0</th>\n",
       "      <td>0</td>\n",
       "      <td>0</td>\n",
       "      <td>1</td>\n",
       "      <td>1</td>\n",
       "      <td>1</td>\n",
       "      <td>0</td>\n",
       "    </tr>\n",
       "    <tr>\n",
       "      <th>1</th>\n",
       "      <td>1</td>\n",
       "      <td>0</td>\n",
       "      <td>0</td>\n",
       "      <td>0</td>\n",
       "      <td>0</td>\n",
       "      <td>1</td>\n",
       "    </tr>\n",
       "    <tr>\n",
       "      <th>2</th>\n",
       "      <td>0</td>\n",
       "      <td>0</td>\n",
       "      <td>0</td>\n",
       "      <td>0</td>\n",
       "      <td>1</td>\n",
       "      <td>0</td>\n",
       "    </tr>\n",
       "    <tr>\n",
       "      <th>3</th>\n",
       "      <td>0</td>\n",
       "      <td>1</td>\n",
       "      <td>1</td>\n",
       "      <td>0</td>\n",
       "      <td>0</td>\n",
       "      <td>0</td>\n",
       "    </tr>\n",
       "    <tr>\n",
       "      <th>4</th>\n",
       "      <td>0</td>\n",
       "      <td>0</td>\n",
       "      <td>0</td>\n",
       "      <td>0</td>\n",
       "      <td>1</td>\n",
       "      <td>0</td>\n",
       "    </tr>\n",
       "    <tr>\n",
       "      <th>...</th>\n",
       "      <td>...</td>\n",
       "      <td>...</td>\n",
       "      <td>...</td>\n",
       "      <td>...</td>\n",
       "      <td>...</td>\n",
       "      <td>...</td>\n",
       "    </tr>\n",
       "    <tr>\n",
       "      <th>197</th>\n",
       "      <td>0</td>\n",
       "      <td>0</td>\n",
       "      <td>1</td>\n",
       "      <td>1</td>\n",
       "      <td>1</td>\n",
       "      <td>0</td>\n",
       "    </tr>\n",
       "    <tr>\n",
       "      <th>198</th>\n",
       "      <td>1</td>\n",
       "      <td>0</td>\n",
       "      <td>0</td>\n",
       "      <td>0</td>\n",
       "      <td>1</td>\n",
       "      <td>1</td>\n",
       "    </tr>\n",
       "    <tr>\n",
       "      <th>199</th>\n",
       "      <td>0</td>\n",
       "      <td>0</td>\n",
       "      <td>1</td>\n",
       "      <td>1</td>\n",
       "      <td>1</td>\n",
       "      <td>0</td>\n",
       "    </tr>\n",
       "    <tr>\n",
       "      <th>200</th>\n",
       "      <td>0</td>\n",
       "      <td>1</td>\n",
       "      <td>1</td>\n",
       "      <td>0</td>\n",
       "      <td>0</td>\n",
       "      <td>0</td>\n",
       "    </tr>\n",
       "    <tr>\n",
       "      <th>201</th>\n",
       "      <td>0</td>\n",
       "      <td>1</td>\n",
       "      <td>0</td>\n",
       "      <td>0</td>\n",
       "      <td>0</td>\n",
       "      <td>0</td>\n",
       "    </tr>\n",
       "  </tbody>\n",
       "</table>\n",
       "<p>202 rows × 6 columns</p>\n",
       "</div>"
      ],
      "text/plain": [
       "     amazed-suprised  happy-pleased  relaxing-calm  quiet-still  sad-lonely  \\\n",
       "0                  0              0              1            1           1   \n",
       "1                  1              0              0            0           0   \n",
       "2                  0              0              0            0           1   \n",
       "3                  0              1              1            0           0   \n",
       "4                  0              0              0            0           1   \n",
       "..               ...            ...            ...          ...         ...   \n",
       "197                0              0              1            1           1   \n",
       "198                1              0              0            0           1   \n",
       "199                0              0              1            1           1   \n",
       "200                0              1              1            0           0   \n",
       "201                0              1              0            0           0   \n",
       "\n",
       "     angry-aggresive  \n",
       "0                  0  \n",
       "1                  1  \n",
       "2                  0  \n",
       "3                  0  \n",
       "4                  0  \n",
       "..               ...  \n",
       "197                0  \n",
       "198                1  \n",
       "199                0  \n",
       "200                0  \n",
       "201                0  \n",
       "\n",
       "[202 rows x 6 columns]"
      ]
     },
     "execution_count": 60,
     "metadata": {},
     "output_type": "execute_result"
    }
   ],
   "source": [
    "# Valores de rotulos apresentados pelo conjunto de treino\n",
    "Y_test"
   ]
  },
  {
   "cell_type": "markdown",
   "metadata": {},
   "source": [
    "### Gráficos\n",
    "Vamos plotar o gráfico de acurácia."
   ]
  },
  {
   "cell_type": "code",
   "execution_count": 61,
   "metadata": {},
   "outputs": [
    {
     "data": {
      "image/png": "[encoded data removed]",
      "text/plain": [
       "<Figure size 432x288 with 1 Axes>"
      ]
     },
     "metadata": {
      "needs_background": "light"
     },
     "output_type": "display_data"
    }
   ],
   "source": [
    "# Plot das acurácias dos métodos multirrótulos.\n",
    "import numpy as np\n",
    "import matplotlib.pyplot as plt\n",
    "# Vamos plotar um gráfico de barras\n",
    "\n",
    "# Eixo X\n",
    "algorithms = ['BR', 'CC', 'LP']\n",
    "# Eixo Y\n",
    "val_acc = [accuracy_score(Y_test.values, pred), accuracy_score(Y_test.values, pred2), accuracy_score(Y_test.values, pred3)]\n",
    "\n",
    "# Barras do gráfico\n",
    "plt.bar(algorithms, val_acc, color=\"gray\")\n",
    "\n",
    "# Nome das barras\n",
    "plt.xticks(algorithms)\n",
    "\n",
    "# Informação do eixo y\n",
    "plt.ylabel('Acurácia')\n",
    "\n",
    "# Informação do eixo X\n",
    "plt.xlabel('Algoritmos')\n",
    "\n",
    "\n",
    "\n",
    "plt.show()"
   ]
  },
  {
   "cell_type": "markdown",
   "metadata": {},
   "source": [
    "Plot do gráfico de *Hamming Loss*."
   ]
  },
  {
   "cell_type": "code",
   "execution_count": 63,
   "metadata": {},
   "outputs": [
    {
     "data": {
      "image/png": "[encoded data removed]",
      "text/plain": [
       "<Figure size 432x288 with 1 Axes>"
      ]
     },
     "metadata": {
      "needs_background": "light"
     },
     "output_type": "display_data"
    }
   ],
   "source": [
    "# Plot dos Hamming Loss dos métodos multirrótulos.\n",
    "# Vamos plotar um gráfico de barras\n",
    "\n",
    "# Eixo X\n",
    "algorithms = ['BR', 'CC', 'LP']\n",
    "# Eixo Y\n",
    "val_acc = [hamming_loss(Y_test.values, pred), hamming_loss(Y_test.values, pred2), hamming_loss(Y_test.values, pred3)]\n",
    "\n",
    "# Barras do gráfico\n",
    "plt.bar(algorithms, val_acc, color=\"gray\")\n",
    "\n",
    "# Nome das barras\n",
    "plt.xticks(algorithms)\n",
    "\n",
    "# Informação do eixo y\n",
    "plt.ylabel('Hamming Loss')\n",
    "\n",
    "# Informação do eixo X\n",
    "plt.xlabel('Algoritmos')\n",
    "\n",
    "plt.show()"
   ]
  },
  {
   "cell_type": "markdown",
   "metadata": {},
   "source": [
    "## Conclusão\n",
    "\n",
    "Podemos analisar que o conjunto de dados *emotions* apresentou resultados\n",
    "bem discrepantes, ao compararmos a acurácia, o Label Powerset teve uma melhor\n",
    "acurácia, e a diferença de valores para cada método é significativo.\n",
    "\n",
    "Ao analizarmos o Hamming loss, percebemos que o Label Powerset e o Classifier\n",
    "Chains, obtiveram um melhor resultado.\n",
    "\n",
    "Embora o Label Powerset não tenha o melhor Hamming Loss, ele possui uma acurácia\n",
    "boa comparada aos outros, e a diferença entre o seu Hamming Loss para o melhor,\n",
    "não é tão significativa, portanto, ele é a melhor escolha para esse dataset."
   ]
  }
 ],
 "metadata": {
  "kernelspec": {
   "display_name": "Python 3 (ipykernel)",
   "language": "python",
   "name": "python3"
  },
  "language_info": {
   "codemirror_mode": {
    "name": "ipython",
    "version": 3
   },
   "file_extension": ".py",
   "mimetype": "text/x-python",
   "name": "python",
   "nbconvert_exporter": "python",
   "pygments_lexer": "ipython3",
   "version": "3.10.2"
  },
  "orig_nbformat": 4
 },
 "nbformat": 4,
 "nbformat_minor": 2
}
